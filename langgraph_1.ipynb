{
  "nbformat": 4,
  "nbformat_minor": 0,
  "metadata": {
    "colab": {
      "provenance": [],
      "gpuType": "T4",
      "authorship_tag": "ABX9TyOYf4DOO8RrmEa0HYP4XbYl",
      "include_colab_link": true
    },
    "kernelspec": {
      "name": "python3",
      "display_name": "Python 3"
    },
    "language_info": {
      "name": "python"
    },
    "accelerator": "GPU"
  },
  "cells": [
    {
      "cell_type": "markdown",
      "metadata": {
        "id": "view-in-github",
        "colab_type": "text"
      },
      "source": [
        "<a href=\"https://colab.research.google.com/github/Muhammad-Saad-2/Langgraph-/blob/main/langgraph_1.ipynb\" target=\"_parent\"><img src=\"https://colab.research.google.com/assets/colab-badge.svg\" alt=\"Open In Colab\"/></a>"
      ]
    },
    {
      "cell_type": "code",
      "execution_count": null,
      "metadata": {
        "id": "-m3xJYP-g49P"
      },
      "outputs": [],
      "source": [
        "!pip freeze > requirements.txt"
      ]
    },
    {
      "cell_type": "code",
      "source": [
        "! pip install langgraph\n",
        "!pip install typing_extensions\n"
      ],
      "metadata": {
        "collapsed": true,
        "id": "By9Stuh2klPd"
      },
      "execution_count": null,
      "outputs": []
    },
    {
      "cell_type": "code",
      "source": [
        "from typing_extensions import TypedDict\n",
        "\n",
        "class Learningstate(TypedDict):\n",
        "  prompt : str\n",
        "  output : str"
      ],
      "metadata": {
        "id": "AdHmoJOoktKk"
      },
      "execution_count": 7,
      "outputs": []
    },
    {
      "cell_type": "code",
      "source": [
        " online_state: Learningstate = Learningstate(prompt = \"hello from online class \")"
      ],
      "metadata": {
        "id": "ZeRyEX-5lgHb"
      },
      "execution_count": 8,
      "outputs": []
    },
    {
      "cell_type": "code",
      "source": [
        "print(online_state[\"prompt\"])"
      ],
      "metadata": {
        "colab": {
          "base_uri": "https://localhost:8080/"
        },
        "id": "3vjiJh2xmEy0",
        "outputId": "4db52198-9ec1-449f-ec2a-0815997a4200"
      },
      "execution_count": 9,
      "outputs": [
        {
          "output_type": "stream",
          "name": "stdout",
          "text": [
            "hello from online class \n"
          ]
        }
      ]
    },
    {
      "cell_type": "code",
      "source": [
        "def node_1(state: Learningstate)->Learningstate:\n",
        "  print(\"__node 1__\", state)\n",
        "  return {\"prompt\": state[\"prompt\"] + \" I am learning neural networks \"}\n",
        "\n",
        "def node_2(state: Learningstate)->Learningstate:\n",
        "  print(\"__node 2__\", state)\n",
        "  return {\"prompt\": state[\"prompt\"] + \"all i wish is to be a great neural network engineer\"}"
      ],
      "metadata": {
        "id": "6DwjLtvWmO1I"
      },
      "execution_count": 10,
      "outputs": []
    },
    {
      "cell_type": "code",
      "source": [
        "from  IPython.display import Image, display\n",
        "from langgraph.graph import StateGraph, START, END\n",
        "\n",
        "#building a graph\n",
        "builder:StateGraph = StateGraph(state_schema=Learningstate)"
      ],
      "metadata": {
        "id": "bG5kwbIIpH-D"
      },
      "execution_count": 11,
      "outputs": []
    },
    {
      "cell_type": "code",
      "source": [
        "#Nodes\n",
        "builder.add_node(\"node_1\", node_1)\n",
        "builder.add_node(\"node_2\", node_2)"
      ],
      "metadata": {
        "colab": {
          "base_uri": "https://localhost:8080/"
        },
        "id": "gcU88FZQqzoy",
        "outputId": "692b8a63-f592-44df-faf5-7cc4d94f63f5"
      },
      "execution_count": 12,
      "outputs": [
        {
          "output_type": "execute_result",
          "data": {
            "text/plain": [
              "<langgraph.graph.state.StateGraph at 0x7dd6e72a0520>"
            ]
          },
          "metadata": {},
          "execution_count": 12
        }
      ]
    },
    {
      "cell_type": "code",
      "source": [
        "# logic for edges\n",
        "builder.add_edge(START, \"node_1\")\n",
        "builder.add_edge(\"node_1\", \"node_2\")\n",
        "builder.add_edge(\"node_2\", END)"
      ],
      "metadata": {
        "colab": {
          "base_uri": "https://localhost:8080/"
        },
        "id": "QhTi735Wr7Vw",
        "outputId": "97f2ba23-1aab-4914-ddae-6f62d7bf3c07"
      },
      "execution_count": 13,
      "outputs": [
        {
          "output_type": "execute_result",
          "data": {
            "text/plain": [
              "<langgraph.graph.state.StateGraph at 0x7dd6e72a0520>"
            ]
          },
          "metadata": {},
          "execution_count": 13
        }
      ]
    },
    {
      "cell_type": "code",
      "source": [
        "from langgraph.graph.state import CompiledStateGraph #type\n",
        "\n",
        "\n",
        "graph:CompiledStateGraph = builder.compile()"
      ],
      "metadata": {
        "id": "1r9A-wonsHYa"
      },
      "execution_count": 14,
      "outputs": []
    },
    {
      "cell_type": "code",
      "source": [
        "print(graph)\n",
        "print(graph.get_graph)"
      ],
      "metadata": {
        "colab": {
          "base_uri": "https://localhost:8080/"
        },
        "id": "vfhX-TZfseUI",
        "outputId": "1b1138f6-3205-4499-d1df-2c416574e0a6"
      },
      "execution_count": 15,
      "outputs": [
        {
          "output_type": "stream",
          "name": "stdout",
          "text": [
            "<langgraph.graph.state.CompiledStateGraph object at 0x7dd6e720f610>\n",
            "<bound method CompiledGraph.get_graph of <langgraph.graph.state.CompiledStateGraph object at 0x7dd6e720f610>>\n"
          ]
        }
      ]
    },
    {
      "cell_type": "code",
      "source": [
        "display (Image(graph.get_graph().draw_mermaid_png()))"
      ],
      "metadata": {
        "colab": {
          "base_uri": "https://localhost:8080/",
          "height": 350
        },
        "id": "SfR0uWx7stzN",
        "outputId": "1de54694-3060-4039-a8dc-2fe726f2c1e5"
      },
      "execution_count": 16,
      "outputs": [
        {
          "output_type": "display_data",
          "data": {
            "image/png": "[encoded data removed]",
            "text/plain": [
              "<IPython.core.display.Image object>"
            ]
          },
          "metadata": {}
        }
      ]
    },
    {
      "cell_type": "code",
      "source": [
        "graph.invoke({'prompt': \"yes\"})"
      ],
      "metadata": {
        "colab": {
          "base_uri": "https://localhost:8080/"
        },
        "id": "kazTxoKXs5iM",
        "outputId": "b60d66bf-56a9-4725-87d9-fb9e479dda7f"
      },
      "execution_count": 17,
      "outputs": [
        {
          "output_type": "stream",
          "name": "stdout",
          "text": [
            "__node 1__ {'prompt': 'yes'}\n",
            "__node 2__ {'prompt': 'yes I am learning neural networks '}\n"
          ]
        },
        {
          "output_type": "execute_result",
          "data": {
            "text/plain": [
              "{'prompt': 'yes I am learning neural networks all i wish is to be a great neural network engineer'}"
            ]
          },
          "metadata": {},
          "execution_count": 17
        }
      ]
    },
    {
      "cell_type": "code",
      "source": [
        "from google.colab import userdata"
      ],
      "metadata": {
        "id": "KM20rwxApCMR"
      },
      "execution_count": 18,
      "outputs": []
    },
    {
      "cell_type": "code",
      "source": [
        "google_api_key = userdata.get(\"GOOGLE_API_KEY\")\n"
      ],
      "metadata": {
        "id": "Cr_6ZcezpFJz"
      },
      "execution_count": 19,
      "outputs": []
    },
    {
      "cell_type": "code",
      "source": [
        "!pip install langchain_google_genai"
      ],
      "metadata": {
        "collapsed": true,
        "id": "L02y9Ij-pyFB"
      },
      "execution_count": null,
      "outputs": []
    },
    {
      "cell_type": "code",
      "source": [
        "from langchain_google_genai import ChatGoogleGenerativeAI\n",
        "\n",
        "#initialize an instnace of the ChatGoogleGenerativeAi\n",
        "llm: ChatGoogleGenerativeAI = ChatGoogleGenerativeAI(\n",
        "    model = \"gemini-1.5-flash\", #clarify which model to use\n",
        "    api_key = google_api_key,  #pass the API keys for authentication\n",
        ")\n",
        "\n"
      ],
      "metadata": {
        "id": "8DYbF8eSpfFP"
      },
      "execution_count": 21,
      "outputs": []
    },
    {
      "cell_type": "code",
      "source": [
        "from langchain_core.messages.ai import AIMessage\n",
        "\n",
        "ai_msg : AIMessage = llm.invoke(\"hello from langchain\")\n",
        "print(ai_msg)"
      ],
      "metadata": {
        "colab": {
          "base_uri": "https://localhost:8080/"
        },
        "id": "e9_CayG6qtvc",
        "outputId": "f06b4f69-ad86-4afb-ec5d-bd111f31eb93"
      },
      "execution_count": 25,
      "outputs": [
        {
          "output_type": "stream",
          "name": "stdout",
          "text": [
            "content='Hello from a helpful AI!  How can I help you today?' additional_kwargs={} response_metadata={'prompt_feedback': {'block_reason': 0, 'safety_ratings': []}, 'finish_reason': 'STOP', 'safety_ratings': []} id='run-b104f9d2-6094-4fd5-aca8-8178d0bb61f1-0' usage_metadata={'input_tokens': 5, 'output_tokens': 15, 'total_tokens': 20, 'input_token_details': {'cache_read': 0}}\n"
          ]
        }
      ]
    },
    {
      "cell_type": "code",
      "source": [
        "print(ai_msg.content) #using .content since the the response from the llm is stored in the content"
      ],
      "metadata": {
        "colab": {
          "base_uri": "https://localhost:8080/"
        },
        "id": "eer6Rkf-LEnU",
        "outputId": "e15ae45e-eb45-46d0-c78f-574fab271dcc"
      },
      "execution_count": 26,
      "outputs": [
        {
          "output_type": "stream",
          "name": "stdout",
          "text": [
            "Hello from a helpful AI!  How can I help you today?\n"
          ]
        }
      ]
    },
    {
      "cell_type": "code",
      "source": [
        "print(type(ai_msg))"
      ],
      "metadata": {
        "colab": {
          "base_uri": "https://localhost:8080/"
        },
        "id": "NGLBVM4XLoQF",
        "outputId": "4cd2fa8b-2a91-4b6c-9bc7-db4db629e05e"
      },
      "execution_count": 27,
      "outputs": [
        {
          "output_type": "stream",
          "name": "stdout",
          "text": [
            "<class 'langchain_core.messages.ai.AIMessage'>\n"
          ]
        }
      ]
    },
    {
      "cell_type": "code",
      "source": [],
      "metadata": {
        "id": "asSSlzZWL5Fl"
      },
      "execution_count": null,
      "outputs": []
    }
  ]
}