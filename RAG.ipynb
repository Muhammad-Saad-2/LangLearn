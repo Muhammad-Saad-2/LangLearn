{
  "nbformat": 4,
  "nbformat_minor": 0,
  "metadata": {
    "colab": {
      "provenance": [],
      "gpuType": "T4",
      "authorship_tag": "ABX9TyON8zWPzWmvvbE5JxnHb/Gi",
      "include_colab_link": true
    },
    "kernelspec": {
      "name": "python3",
      "display_name": "Python 3"
    },
    "language_info": {
      "name": "python"
    },
    "accelerator": "GPU"
  },
  "cells": [
    {
      "cell_type": "markdown",
      "metadata": {
        "id": "view-in-github",
        "colab_type": "text"
      },
      "source": [
        "<a href=\"https://colab.research.google.com/github/Muhammad-Saad-2/LangLearn/blob/main/RAG.ipynb\" target=\"_parent\"><img src=\"https://colab.research.google.com/assets/colab-badge.svg\" alt=\"Open In Colab\"/></a>"
      ]
    },
    {
      "cell_type": "code",
      "source": [
        "#installing encessary libraries\n",
        "\n",
        "%pip install langchain -q -U\n",
        "%pip install langchain-community -q -U\n",
        "%pip install langchain-huggingface -q -U\n",
        "%pip install langchain_pinecone -q -U\n",
        "%pip install sentence-transformers -q -U\n",
        "%pip install langchain-google-genai -q -U\n",
        "%pip install langchain-pinecone -q -U"
      ],
      "metadata": {
        "collapsed": true,
        "id": "zYOW0SgaluWT"
      },
      "execution_count": null,
      "outputs": []
    },
    {
      "cell_type": "code",
      "source": [
        "import getpass\n",
        "import os\n",
        "import time\n",
        "from google.colab import userdata\n",
        "from pinecone import Pinecone\n",
        "\n",
        "from pinecone import Pinecone, ServerlessSpec\n",
        "\n",
        "pinecone_api_key = userdata.get('PINECONE_API_KEY')\n",
        "\n",
        "pc =  Pinecone(api_key=pinecone_api_key)"
      ],
      "metadata": {
        "id": "1VeSYNEGly9R"
      },
      "execution_count": null,
      "outputs": []
    },
    {
      "cell_type": "code",
      "source": [
        "#creating an index in pinecone in order to store the data in an organized way\n",
        "\n",
        "import time\n",
        "\n",
        "index_name = \"ragexplore\"\n",
        "\n",
        "if index_name :\n",
        "  print(\"index already exists\")\n",
        "else:\n",
        "  pc.create_index(\n",
        "      name=index_name,\n",
        "      dimension=384,\n",
        "      metric=\"cosine\",\n",
        "      spec=ServerlessSpec(cloud=\"aws\", region=\"us-east-1\"),\n",
        "\n",
        ")\n",
        "index = pc.Index(index_name)"
      ],
      "metadata": {
        "id": "PnwqcHIRHlgQ",
        "colab": {
          "base_uri": "https://localhost:8080/"
        },
        "outputId": "1579e26a-df63-419d-b500-f81dc8dc2579"
      },
      "execution_count": null,
      "outputs": [
        {
          "output_type": "stream",
          "name": "stdout",
          "text": [
            "index already exists\n"
          ]
        }
      ]
    },
    {
      "cell_type": "code",
      "source": [
        "#text embedding instance\n",
        "\n",
        "from sentence_transformers import SentenceTransformer\n",
        "from langchain_pinecone import PineconeVectorStore\n",
        "\n",
        "embedding = SentenceTransformer( \"sentence-transformers/all-mpnet-base-v2\")\n",
        "\n",
        "def embed_function(texts):\n",
        "  if isinstance(texts, str):\n",
        "    return embedding.encode(texts)\n",
        "  return [embedding.encode(text) for text in texts]\n",
        "\n",
        "\n",
        "vector_store = PineconeVectorStore(\n",
        "    index=index,\n",
        "    embedding=embedding,\n",
        "    text_key=\"text\"\n",
        "\n",
        "  )\n"
      ],
      "metadata": {
        "collapsed": true,
        "id": "ZsaH6u2FJAAV"
      },
      "execution_count": null,
      "outputs": []
    },
    {
      "cell_type": "code",
      "source": [
        "from langchain_core.documents import Document\n",
        "from uuid import uuid4\n",
        "from sentence_transformers import SentenceTransformer\n",
        "\n",
        "\n",
        "\n",
        "document_1 = Document(\n",
        "    page_content=\"A bunch of scientists bring back dinosaurs and mayhem breaks loose\",\n",
        "    metadata={\"year\": 1993, \"rating\": 7.7, \"genre\": \"science fiction\"},\n",
        ")\n",
        "document_2 = Document(\n",
        "    page_content=\"Leo DiCaprio gets lost in a dream within a dream within a dream within a ...\",\n",
        "    metadata={\"year\": 2010, \"director\": \"Christopher Nolan\", \"rating\": 8.2},\n",
        ")\n",
        "document_3 = Document(\n",
        "    page_content=\"A psychologist / detective gets lost in a series of dreams within dreams within dreams and Inception reused the idea\",\n",
        "    metadata={\"year\": 200, \"director\": \"Satoshi Kon\", \"rating\": 8.6},\n",
        ")\n",
        "document_4 = Document(\n",
        "    page_content=\"A bunch of normal-sized women are supremely wholesome and some men pine after them\",\n",
        "    metadata={\"year\": 2019, \"director\": \"Greta Gerwig\", \"rating\": 8.3},\n",
        ")\n",
        "document_5 = Document(\n",
        "    page_content=\"Toys come alive and have a blast doing so\",\n",
        "    metadata={\"year\": 1995, \"genre\": \"animated\"},\n",
        ")\n",
        "document_6 = Document(\n",
        "    page_content=\"Three men walk into the Zone, three men walk out of the Zone\",\n",
        "    metadata={\"year\": 19, \"rating\": 8.3},\n",
        ")\n",
        "document_7 = Document(\n",
        "    page_content=\"In the 22nd century, a paraplegic Marine is dispatched to the moon Pandora on a unique mission, but becomes torn between following orders and protecting an alien civilization\",\n",
        "    metadata={\"year\": 2004, \"director\": \"Steven Spielberg\", \"rating\": 8.6},\n",
        ")\n",
        "document_8 = Document(\n",
        "    page_content=\"A bunch of scientists bring back dinosaurs and mayhem breaks loose\",\n",
        "    metadata={\"year\": 1993, \"rating\": 7.7, \"genre\": \"science fiction\"},\n",
        ")\n",
        "document_9 = Document(\n",
        "    page_content=\"Leo DiCaprio gets lost in a dream within a dream within a dream within a ...\",\n",
        "    metadata={\"year\": 2010, \"director\": \"Christopher Nolan\", \"rating\": 8.2},\n",
        ")\n",
        "document_10 = Document(\n",
        "    page_content=\"A psychologist / detective gets lost in a series of dreams within dreams within dreams and Inception reused the idea\",\n",
        "    metadata={\"year\": 200, \"director\": \"Satoshi Kon\", \"rating\": 8.6},\n",
        ")\n",
        "\n",
        "documents = [\n",
        "    document_1,\n",
        "    document_2,\n",
        "    document_3,\n",
        "    document_4,\n",
        "    document_5,\n",
        "    document_6,\n",
        "    document_7,\n",
        "    document_8,\n",
        "    document_9,\n",
        "    document_10\n",
        "  ]\n",
        "\n",
        "\n",
        "uuids = [str(uuid4()) for doc in range (0, len(documents))]\n",
        "\n",
        "\n",
        "\n"
      ],
      "metadata": {
        "id": "4b925s8qRfhB"
      },
      "execution_count": null,
      "outputs": []
    },
    {
      "cell_type": "code",
      "source": [],
      "metadata": {
        "id": "OnGVi_Fhp7XP"
      },
      "execution_count": null,
      "outputs": []
    },
    {
      "cell_type": "code",
      "source": [
        "from sentence_transformers import SentenceTransformer\n",
        "\n",
        "model_name = \"sentence-transformers/all-mpnet-base-v2\"\n",
        "model = SentenceTransformer(model_name)\n",
        "\n",
        "embeddings = []\n",
        "\n",
        "for document in documents:\n",
        "  embedding = model.encode(document.page_content)\n",
        "  embeddings.append(embedding)"
      ],
      "metadata": {
        "id": "poL_fIv6tQ9Z"
      },
      "execution_count": null,
      "outputs": []
    },
    {
      "source": [
        "# prompt: now pass the embeded documents into gemini model using the API keys in my secrets and generate a mixture of my embed documents and ai model's generated text\n",
        "\n",
        "import os\n",
        "from google.colab import userdata\n",
        "from langchain_google_genai import GoogleGenerativeAI\n",
        "\n",
        "# Replace with your actual API key\n",
        "google_api_key = userdata.get('GOOGLE_API_KEY')\n",
        "\n",
        "# Initialize the Gemini model, using 'gemini-pro' as the model family\n",
        "# Valid options for model include: 'gemini-pro', 'gemini-turbo', 'text-bison@001'\n",
        "llm = GoogleGenerativeAI(model=\"gemini-pro\", api_key=google_api_key, temperature=0.7)  # Adjust temperature as needed\n",
        "\n",
        "# Example usage with the documents and embeddings\n",
        "generated_text = llm(\n",
        "    \"Generate a creative text that incorporates information from these movie summaries:\\n\\n\"\n",
        "    + \"\\n\\n\".join([doc.page_content for doc in documents])\n",
        "    + \"\\n\\nThe new text should be a cohesive story, not just a summary.\"\n",
        ")\n",
        "generated_text"
      ],
      "cell_type": "code",
      "metadata": {
        "colab": {
          "base_uri": "https://localhost:8080/",
          "height": 140
        },
        "id": "rTAVOLKTGGum",
        "outputId": "b338b130-e656-4614-e923-73b1b297657a"
      },
      "execution_count": null,
      "outputs": [
        {
          "output_type": "stream",
          "name": "stderr",
          "text": [
            "<ipython-input-31-47d58b73ff14>:15: LangChainDeprecationWarning: The method `BaseLLM.__call__` was deprecated in langchain-core 0.1.7 and will be removed in 1.0. Use :meth:`~invoke` instead.\n",
            "  generated_text = llm(\n"
          ]
        },
        {
          "output_type": "execute_result",
          "data": {
            "text/plain": [
              "\"In a realm where reality blurred and dreams intertwined, a group of audacious scientists dared to defy nature's boundaries. They ventured into the depths of the past, retrieving remnants of an ancient world: dinosaurs. As these prehistoric behemoths were reanimated, chaos erupted, their thunderous footsteps shaking the very foundations of civilization.\\n\\nAmidst this pandemonium, a brilliant psychologist embarked on a perilous journey into the labyrinthine realm of dreams. Each layer of slumber revealed a deeper abyss, where memories, desires, and fears danced in an enigmatic ballet. As he delved further into this surreal landscape, he encountered a young man who had become trapped in a perpetual cycle of dreams within dreams, a haunting mirror image of his own predicament.\\n\\nMeanwhile, in a quaint suburban town, a group of virtuous women exuded an otherworldly wholesomeness. Their simple lives stood in stark contrast to the turmoil raging outside their cozy homes. Men from far and wide flocked to witness their radiant presence, their hearts yearning for a taste of their purity.\\n\\nAs the boundaries between waking and dreaming grew ever more曖昧, a trio of explorers ventured into the enigmatic Zone. Their mission: to uncover the secrets hidden within this perilous wasteland. With each step they took, their perceptions shifted, reality bending and warping around them. Upon their egress, they emerged as transformed beings, forever haunted by the surreal experiences they had endured.\\n\\nIn the distant reaches of the 22nd century, a paraplegic Marine found himself torn between duty and compassion. Dispatched to the alien moon Pandora, he was tasked with suppressing an indigenous civilization. Yet, as he immersed himself in their vibrant culture and the breathtaking beauty of their world, a profound realization dawned upon him: the true enemy lay not in the unknown, but within the darkness that threatened to consume his own humanity.\\n\\nAnd so, in this tapestry of interconnected destinies, dreams and reality intertwined, blurring the lines between what was real and what was merely a figment of the imagination. The boundaries of perception shattered, and the very nature of existence became a profound enigma, forever etched into the annals of human consciousness.\""
            ],
            "application/vnd.google.colaboratory.intrinsic+json": {
              "type": "string"
            }
          },
          "metadata": {},
          "execution_count": 31
        }
      ]
    },
    {
      "cell_type": "code",
      "source": [
        "dir(PineconeVectorStore)"
      ],
      "metadata": {
        "id": "sWMdposkVVnG",
        "colab": {
          "base_uri": "https://localhost:8080/"
        },
        "outputId": "3dffe46f-ff2d-4bec-f8fe-9ae848706445"
      },
      "execution_count": null,
      "outputs": [
        {
          "output_type": "execute_result",
          "data": {
            "text/plain": [
              "['__abstractmethods__',\n",
              " '__annotations__',\n",
              " '__class__',\n",
              " '__delattr__',\n",
              " '__dict__',\n",
              " '__dir__',\n",
              " '__doc__',\n",
              " '__eq__',\n",
              " '__format__',\n",
              " '__ge__',\n",
              " '__getattribute__',\n",
              " '__getstate__',\n",
              " '__gt__',\n",
              " '__hash__',\n",
              " '__init__',\n",
              " '__init_subclass__',\n",
              " '__le__',\n",
              " '__lt__',\n",
              " '__module__',\n",
              " '__ne__',\n",
              " '__new__',\n",
              " '__reduce__',\n",
              " '__reduce_ex__',\n",
              " '__repr__',\n",
              " '__setattr__',\n",
              " '__sizeof__',\n",
              " '__slots__',\n",
              " '__str__',\n",
              " '__subclasshook__',\n",
              " '__weakref__',\n",
              " '_abc_impl',\n",
              " '_asimilarity_search_with_relevance_scores',\n",
              " '_cosine_relevance_score_fn',\n",
              " '_euclidean_relevance_score_fn',\n",
              " '_get_retriever_tags',\n",
              " '_max_inner_product_relevance_score_fn',\n",
              " '_select_relevance_score_fn',\n",
              " '_similarity_search_with_relevance_scores',\n",
              " 'aadd_documents',\n",
              " 'aadd_texts',\n",
              " 'add_documents',\n",
              " 'add_texts',\n",
              " 'adelete',\n",
              " 'afrom_documents',\n",
              " 'afrom_texts',\n",
              " 'aget_by_ids',\n",
              " 'amax_marginal_relevance_search',\n",
              " 'amax_marginal_relevance_search_by_vector',\n",
              " 'as_retriever',\n",
              " 'asearch',\n",
              " 'asimilarity_search',\n",
              " 'asimilarity_search_by_vector',\n",
              " 'asimilarity_search_with_relevance_scores',\n",
              " 'asimilarity_search_with_score',\n",
              " 'delete',\n",
              " 'embeddings',\n",
              " 'from_documents',\n",
              " 'from_existing_index',\n",
              " 'from_texts',\n",
              " 'get_by_ids',\n",
              " 'get_pinecone_index',\n",
              " 'max_marginal_relevance_search',\n",
              " 'max_marginal_relevance_search_by_vector',\n",
              " 'search',\n",
              " 'similarity_search',\n",
              " 'similarity_search_by_vector',\n",
              " 'similarity_search_by_vector_with_score',\n",
              " 'similarity_search_with_relevance_scores',\n",
              " 'similarity_search_with_score']"
            ]
          },
          "metadata": {},
          "execution_count": 12
        }
      ]
    },
    {
      "cell_type": "code",
      "source": [
        "dir(SentenceTransformer)"
      ],
      "metadata": {
        "colab": {
          "base_uri": "https://localhost:8080/"
        },
        "id": "G_jzNli-Wyl9",
        "outputId": "49948b4e-ba28-44c5-b48c-88c89ac95d23"
      },
      "execution_count": null,
      "outputs": [
        {
          "output_type": "execute_result",
          "data": {
            "text/plain": [
              "['T_destination',\n",
              " '__add__',\n",
              " '__annotations__',\n",
              " '__call__',\n",
              " '__class__',\n",
              " '__delattr__',\n",
              " '__delitem__',\n",
              " '__dict__',\n",
              " '__dir__',\n",
              " '__doc__',\n",
              " '__eq__',\n",
              " '__format__',\n",
              " '__ge__',\n",
              " '__getattr__',\n",
              " '__getattribute__',\n",
              " '__getitem__',\n",
              " '__getstate__',\n",
              " '__gt__',\n",
              " '__hash__',\n",
              " '__iadd__',\n",
              " '__imul__',\n",
              " '__init__',\n",
              " '__init_subclass__',\n",
              " '__iter__',\n",
              " '__le__',\n",
              " '__len__',\n",
              " '__lt__',\n",
              " '__module__',\n",
              " '__mul__',\n",
              " '__ne__',\n",
              " '__new__',\n",
              " '__reduce__',\n",
              " '__reduce_ex__',\n",
              " '__repr__',\n",
              " '__rmul__',\n",
              " '__setattr__',\n",
              " '__setitem__',\n",
              " '__setstate__',\n",
              " '__sizeof__',\n",
              " '__str__',\n",
              " '__subclasshook__',\n",
              " '__weakref__',\n",
              " '_apply',\n",
              " '_call_impl',\n",
              " '_compiled_call_impl',\n",
              " '_create_model_card',\n",
              " '_encode_multi_process_worker',\n",
              " '_eval_during_training',\n",
              " '_first_module',\n",
              " '_get_backward_hooks',\n",
              " '_get_backward_pre_hooks',\n",
              " '_get_item_by_idx',\n",
              " '_get_name',\n",
              " '_get_scheduler',\n",
              " '_keys_to_ignore_on_save',\n",
              " '_last_module',\n",
              " '_load_auto_model',\n",
              " '_load_from_state_dict',\n",
              " '_load_module_class_from_ref',\n",
              " '_load_sbert_model',\n",
              " '_maybe_warn_non_full_backward_hook',\n",
              " '_named_members',\n",
              " '_no_split_modules',\n",
              " '_register_load_state_dict_pre_hook',\n",
              " '_register_state_dict_hook',\n",
              " '_replicate_for_data_parallel',\n",
              " '_save_checkpoint',\n",
              " '_save_to_state_dict',\n",
              " '_slow_forward',\n",
              " '_target_device',\n",
              " '_text_length',\n",
              " '_version',\n",
              " '_wrapped_call_impl',\n",
              " 'active_adapter',\n",
              " 'active_adapters',\n",
              " 'add_adapter',\n",
              " 'add_module',\n",
              " 'append',\n",
              " 'apply',\n",
              " 'bfloat16',\n",
              " 'buffers',\n",
              " 'call_super_init',\n",
              " 'check_peft_compatible_model',\n",
              " 'children',\n",
              " 'compile',\n",
              " 'cpu',\n",
              " 'cuda',\n",
              " 'device',\n",
              " 'disable_adapters',\n",
              " 'double',\n",
              " 'dump_patches',\n",
              " 'enable_adapters',\n",
              " 'encode',\n",
              " 'encode_multi_process',\n",
              " 'eval',\n",
              " 'evaluate',\n",
              " 'extend',\n",
              " 'extra_repr',\n",
              " 'fit',\n",
              " 'float',\n",
              " 'forward',\n",
              " 'get_adapter_state_dict',\n",
              " 'get_backend',\n",
              " 'get_buffer',\n",
              " 'get_extra_state',\n",
              " 'get_max_seq_length',\n",
              " 'get_parameter',\n",
              " 'get_sentence_embedding_dimension',\n",
              " 'get_sentence_features',\n",
              " 'get_submodule',\n",
              " 'gradient_checkpointing_enable',\n",
              " 'half',\n",
              " 'has_peft_compatible_model',\n",
              " 'insert',\n",
              " 'ipu',\n",
              " 'load',\n",
              " 'load_adapter',\n",
              " 'load_state_dict',\n",
              " 'max_seq_length',\n",
              " 'modules',\n",
              " 'mtia',\n",
              " 'named_buffers',\n",
              " 'named_children',\n",
              " 'named_modules',\n",
              " 'named_parameters',\n",
              " 'old_fit',\n",
              " 'parameters',\n",
              " 'pop',\n",
              " 'push_to_hub',\n",
              " 'register_backward_hook',\n",
              " 'register_buffer',\n",
              " 'register_forward_hook',\n",
              " 'register_forward_pre_hook',\n",
              " 'register_full_backward_hook',\n",
              " 'register_full_backward_pre_hook',\n",
              " 'register_load_state_dict_post_hook',\n",
              " 'register_load_state_dict_pre_hook',\n",
              " 'register_module',\n",
              " 'register_parameter',\n",
              " 'register_state_dict_post_hook',\n",
              " 'register_state_dict_pre_hook',\n",
              " 'requires_grad_',\n",
              " 'save',\n",
              " 'save_pretrained',\n",
              " 'save_to_hub',\n",
              " 'set_adapter',\n",
              " 'set_extra_state',\n",
              " 'set_pooling_include_prompt',\n",
              " 'set_submodule',\n",
              " 'share_memory',\n",
              " 'similarity',\n",
              " 'similarity_fn_name',\n",
              " 'similarity_pairwise',\n",
              " 'smart_batching_collate',\n",
              " 'start_multi_process_pool',\n",
              " 'state_dict',\n",
              " 'stop_multi_process_pool',\n",
              " 'to',\n",
              " 'to_empty',\n",
              " 'tokenize',\n",
              " 'tokenizer',\n",
              " 'train',\n",
              " 'truncate_sentence_embeddings',\n",
              " 'type',\n",
              " 'xpu',\n",
              " 'zero_grad']"
            ]
          },
          "metadata": {},
          "execution_count": 17
        }
      ]
    },
    {
      "cell_type": "code",
      "source": [],
      "metadata": {
        "id": "LsNoLlSVYsxN"
      },
      "execution_count": null,
      "outputs": []
    }
  ]
}