{
  "nbformat": 4,
  "nbformat_minor": 0,
  "metadata": {
    "colab": {
      "provenance": [],
      "gpuType": "T4",
      "authorship_tag": "ABX9TyMxc6WpwDOpT/d++l/i+In0",
      "include_colab_link": true
    },
    "kernelspec": {
      "name": "python3",
      "display_name": "Python 3"
    },
    "language_info": {
      "name": "python"
    },
    "accelerator": "GPU"
  },
  "cells": [
    {
      "cell_type": "markdown",
      "metadata": {
        "id": "view-in-github",
        "colab_type": "text"
      },
      "source": [
        "<a href=\"https://colab.research.google.com/github/Muhammad-Saad-2/LangLearn/blob/main/RAG.ipynb\" target=\"_parent\"><img src=\"https://colab.research.google.com/assets/colab-badge.svg\" alt=\"Open In Colab\"/></a>"
      ]
    },
    {
      "cell_type": "code",
      "source": [
        "#installing encessary libraries\n",
        "\n",
        "%pip install langchain -q -U\n",
        "%pip install langchain-community -q -U\n",
        "%pip install langchain-huggingface -q -U\n",
        "%pip install langchain_pinecone -q -U\n",
        "%pip install sentence-transformers -q -U\n",
        "%pip install langchain-google-genai -q -U\n",
        "%pip install langchain-pinecone -q -U"
      ],
      "metadata": {
        "collapsed": true,
        "id": "zYOW0SgaluWT",
        "colab": {
          "base_uri": "https://localhost:8080/"
        },
        "outputId": "bf24bc08-462d-48bd-e6aa-eb50bf4b8988"
      },
      "execution_count": 2,
      "outputs": [
        {
          "output_type": "stream",
          "name": "stdout",
          "text": [
            "\u001b[?25l   \u001b[90m━━━━━━━━━━━━━━━━━━━━━━━━━━━━━━━━━━━━━━━━\u001b[0m \u001b[32m0.0/2.5 MB\u001b[0m \u001b[31m?\u001b[0m eta \u001b[36m-:--:--\u001b[0m\r\u001b[2K   \u001b[91m━━━━━━━━━━━━━━━━━━━━━━━━━━━━━━━\u001b[0m\u001b[91m╸\u001b[0m\u001b[90m━━━━━━━━\u001b[0m \u001b[32m2.0/2.5 MB\u001b[0m \u001b[31m59.5 MB/s\u001b[0m eta \u001b[36m0:00:01\u001b[0m\r\u001b[2K   \u001b[90m━━━━━━━━━━━━━━━━━━━━━━━━━━━━━━━━━━━━━━━━\u001b[0m \u001b[32m2.5/2.5 MB\u001b[0m \u001b[31m43.7 MB/s\u001b[0m eta \u001b[36m0:00:00\u001b[0m\n",
            "\u001b[2K   \u001b[90m━━━━━━━━━━━━━━━━━━━━━━━━━━━━━━━━━━━━━━━━\u001b[0m \u001b[32m50.9/50.9 kB\u001b[0m \u001b[31m4.4 MB/s\u001b[0m eta \u001b[36m0:00:00\u001b[0m\n",
            "\u001b[2K   \u001b[90m━━━━━━━━━━━━━━━━━━━━━━━━━━━━━━━━━━━━━━━━\u001b[0m \u001b[32m363.4/363.4 MB\u001b[0m \u001b[31m4.2 MB/s\u001b[0m eta \u001b[36m0:00:00\u001b[0m\n",
            "\u001b[2K   \u001b[90m━━━━━━━━━━━━━━━━━━━━━━━━━━━━━━━━━━━━━━━━\u001b[0m \u001b[32m13.8/13.8 MB\u001b[0m \u001b[31m84.4 MB/s\u001b[0m eta \u001b[36m0:00:00\u001b[0m\n",
            "\u001b[2K   \u001b[90m━━━━━━━━━━━━━━━━━━━━━━━━━━━━━━━━━━━━━━━━\u001b[0m \u001b[32m24.6/24.6 MB\u001b[0m \u001b[31m17.4 MB/s\u001b[0m eta \u001b[36m0:00:00\u001b[0m\n",
            "\u001b[2K   \u001b[90m━━━━━━━━━━━━━━━━━━━━━━━━━━━━━━━━━━━━━━━━\u001b[0m \u001b[32m883.7/883.7 kB\u001b[0m \u001b[31m41.0 MB/s\u001b[0m eta \u001b[36m0:00:00\u001b[0m\n",
            "\u001b[2K   \u001b[90m━━━━━━━━━━━━━━━━━━━━━━━━━━━━━━━━━━━━━━━━\u001b[0m \u001b[32m664.8/664.8 MB\u001b[0m \u001b[31m2.2 MB/s\u001b[0m eta \u001b[36m0:00:00\u001b[0m\n",
            "\u001b[2K   \u001b[90m━━━━━━━━━━━━━━━━━━━━━━━━━━━━━━━━━━━━━━━━\u001b[0m \u001b[32m211.5/211.5 MB\u001b[0m \u001b[31m5.3 MB/s\u001b[0m eta \u001b[36m0:00:00\u001b[0m\n",
            "\u001b[2K   \u001b[90m━━━━━━━━━━━━━━━━━━━━━━━━━━━━━━━━━━━━━━━━\u001b[0m \u001b[32m56.3/56.3 MB\u001b[0m \u001b[31m10.1 MB/s\u001b[0m eta \u001b[36m0:00:00\u001b[0m\n",
            "\u001b[2K   \u001b[90m━━━━━━━━━━━━━━━━━━━━━━━━━━━━━━━━━━━━━━━━\u001b[0m \u001b[32m127.9/127.9 MB\u001b[0m \u001b[31m7.7 MB/s\u001b[0m eta \u001b[36m0:00:00\u001b[0m\n",
            "\u001b[2K   \u001b[90m━━━━━━━━━━━━━━━━━━━━━━━━━━━━━━━━━━━━━━━━\u001b[0m \u001b[32m207.5/207.5 MB\u001b[0m \u001b[31m7.2 MB/s\u001b[0m eta \u001b[36m0:00:00\u001b[0m\n",
            "\u001b[2K   \u001b[90m━━━━━━━━━━━━━━━━━━━━━━━━━━━━━━━━━━━━━━━━\u001b[0m \u001b[32m21.1/21.1 MB\u001b[0m \u001b[31m50.0 MB/s\u001b[0m eta \u001b[36m0:00:00\u001b[0m\n",
            "\u001b[2K   \u001b[90m━━━━━━━━━━━━━━━━━━━━━━━━━━━━━━━━━━━━━━━━\u001b[0m \u001b[32m1.3/1.3 MB\u001b[0m \u001b[31m28.7 MB/s\u001b[0m eta \u001b[36m0:00:00\u001b[0m\n",
            "\u001b[2K   \u001b[90m━━━━━━━━━━━━━━━━━━━━━━━━━━━━━━━━━━━━━━━━\u001b[0m \u001b[32m427.3/427.3 kB\u001b[0m \u001b[31m29.4 MB/s\u001b[0m eta \u001b[36m0:00:00\u001b[0m\n",
            "\u001b[2K   \u001b[90m━━━━━━━━━━━━━━━━━━━━━━━━━━━━━━━━━━━━━━━━\u001b[0m \u001b[32m87.5/87.5 kB\u001b[0m \u001b[31m7.9 MB/s\u001b[0m eta \u001b[36m0:00:00\u001b[0m\n",
            "\u001b[2K   \u001b[90m━━━━━━━━━━━━━━━━━━━━━━━━━━━━━━━━━━━━━━━━\u001b[0m \u001b[32m50.5/50.5 kB\u001b[0m \u001b[31m4.0 MB/s\u001b[0m eta \u001b[36m0:00:00\u001b[0m\n",
            "\u001b[2K   \u001b[90m━━━━━━━━━━━━━━━━━━━━━━━━━━━━━━━━━━━━━━━━\u001b[0m \u001b[32m42.0/42.0 kB\u001b[0m \u001b[31m3.0 MB/s\u001b[0m eta \u001b[36m0:00:00\u001b[0m\n",
            "\u001b[?25h"
          ]
        }
      ]
    },
    {
      "cell_type": "code",
      "source": [
        "import getpass\n",
        "import os\n",
        "import time\n",
        "from google.colab import userdata\n",
        "from pinecone import Pinecone\n",
        "\n",
        "from pinecone import Pinecone, ServerlessSpec\n",
        "\n",
        "pinecone_api_key = userdata.get('PINECONE_API_KEY')\n",
        "\n",
        "pc =  Pinecone(api_key=pinecone_api_key) #create instance from the pinecone class"
      ],
      "metadata": {
        "id": "1VeSYNEGly9R"
      },
      "execution_count": 3,
      "outputs": []
    },
    {
      "cell_type": "code",
      "source": [
        "#creating an index in pinecone in order to store the data in an organized way\n",
        "\n",
        "import time\n",
        "\n",
        "index_name = \"ragexplore\"\n",
        "\n",
        "if index_name :\n",
        "  print(\"index already exists\") #debugging code because once you've created the index in the pinecone it will throw an error\n",
        "                                #after you run it again since the colab runtime deactivates and requires you to run the cells all over again\n",
        "else:                           #after certain minutes of inactivity\n",
        "  pc.create_index(\n",
        "      name=index_name,\n",
        "      dimension=384,\n",
        "      metric=\"cosine\",\n",
        "      spec=ServerlessSpec(cloud=\"aws\", region=\"us-east-1\"),\n",
        "\n",
        ")\n",
        "index = pc.Index(index_name)"
      ],
      "metadata": {
        "id": "PnwqcHIRHlgQ",
        "colab": {
          "base_uri": "https://localhost:8080/"
        },
        "outputId": "cf380bfe-2426-434c-bbd2-21a9a0f99518"
      },
      "execution_count": 6,
      "outputs": [
        {
          "output_type": "stream",
          "name": "stdout",
          "text": [
            "index already exists\n"
          ]
        }
      ]
    },
    {
      "cell_type": "code",
      "source": [
        "#text embedding instance\n",
        "\n",
        "from sentence_transformers import SentenceTransformer\n",
        "from langchain_pinecone import PineconeVectorStore\n",
        "\n",
        "embedding = SentenceTransformer( \"sentence-transformers/all-mpnet-base-v2\")\n",
        "\n",
        "def embed_function(texts):\n",
        "  if isinstance(texts, str):\n",
        "    return embedding.encode(texts)\n",
        "  return [embedding.encode(text) for text in texts]\n",
        "\n",
        "\n",
        "vector_store = PineconeVectorStore(\n",
        "    index=index,\n",
        "    embedding=embedding,\n",
        "    text_key=\"text\"\n",
        "\n",
        "  )\n"
      ],
      "metadata": {
        "collapsed": true,
        "id": "ZsaH6u2FJAAV"
      },
      "execution_count": 7,
      "outputs": []
    },
    {
      "cell_type": "code",
      "source": [
        "#creating dummy docuemnts\n",
        "\n",
        "from langchain_core.documents import Document\n",
        "from uuid import uuid4\n",
        "from sentence_transformers import SentenceTransformer\n",
        "\n",
        "\n",
        "\n",
        "document_1 = Document(\n",
        "    page_content=\"A bunch of scientists bring back dinosaurs and mayhem breaks loose\",\n",
        "    metadata={\"year\": 1993, \"rating\": 7.7, \"genre\": \"science fiction\"},\n",
        ")\n",
        "document_2 = Document(\n",
        "    page_content=\"Leo DiCaprio gets lost in a dream within a dream within a dream within a ...\",\n",
        "    metadata={\"year\": 2010, \"director\": \"Christopher Nolan\", \"rating\": 8.2},\n",
        ")\n",
        "document_3 = Document(\n",
        "    page_content=\"A psychologist / detective gets lost in a series of dreams within dreams within dreams and Inception reused the idea\",\n",
        "    metadata={\"year\": 200, \"director\": \"Satoshi Kon\", \"rating\": 8.6},\n",
        ")\n",
        "document_4 = Document(\n",
        "    page_content=\"A bunch of normal-sized women are supremely wholesome and some men pine after them\",\n",
        "    metadata={\"year\": 2019, \"director\": \"Greta Gerwig\", \"rating\": 8.3},\n",
        ")\n",
        "document_5 = Document(\n",
        "    page_content=\"Toys come alive and have a blast doing so\",\n",
        "    metadata={\"year\": 1995, \"genre\": \"animated\"},\n",
        ")\n",
        "document_6 = Document(\n",
        "    page_content=\"Three men walk into the Zone, three men walk out of the Zone\",\n",
        "    metadata={\"year\": 19, \"rating\": 8.3},\n",
        ")\n",
        "document_7 = Document(\n",
        "    page_content=\"In the 22nd century, a paraplegic Marine is dispatched to the moon Pandora on a unique mission, but becomes torn between following orders and protecting an alien civilization\",\n",
        "    metadata={\"year\": 2004, \"director\": \"Steven Spielberg\", \"rating\": 8.6},\n",
        ")\n",
        "document_8 = Document(\n",
        "    page_content=\"A bunch of scientists bring back dinosaurs and mayhem breaks loose\",\n",
        "    metadata={\"year\": 1993, \"rating\": 7.7, \"genre\": \"science fiction\"},\n",
        ")\n",
        "document_9 = Document(\n",
        "    page_content=\"Leo DiCaprio gets lost in a dream within a dream within a dream within a ...\",\n",
        "    metadata={\"year\": 2010, \"director\": \"Christopher Nolan\", \"rating\": 8.2},\n",
        ")\n",
        "document_10 = Document(\n",
        "    page_content=\"A psychologist / detective gets lost in a series of dreams within dreams within dreams and Inception reused the idea\",\n",
        "    metadata={\"year\": 200, \"director\": \"Satoshi Kon\", \"rating\": 8.6},\n",
        ")\n",
        "\n",
        "documents = [\n",
        "    document_1,\n",
        "    document_2,\n",
        "    document_3,\n",
        "    document_4,\n",
        "    document_5,\n",
        "    document_6,\n",
        "    document_7,\n",
        "    document_8,\n",
        "    document_9,\n",
        "    document_10\n",
        "  ]\n",
        "\n",
        "#assigning uuids to each document\n",
        "uuids = [str(uuid4()) for doc in range (0, len(documents))]\n",
        "\n",
        "\n",
        "\n"
      ],
      "metadata": {
        "id": "4b925s8qRfhB"
      },
      "execution_count": 8,
      "outputs": []
    },
    {
      "cell_type": "code",
      "source": [
        "#importing the embedding model\n",
        "from sentence_transformers import SentenceTransformer\n",
        "\n",
        "model_name = \"sentence-transformers/all-mpnet-base-v2\"\n",
        "model = SentenceTransformer(model_name)\n",
        "\n",
        "embeddings = []\n",
        "\n",
        "for document in documents:\n",
        "  embedding = model.encode(document.page_content)\n",
        "  embeddings.append(embedding)"
      ],
      "metadata": {
        "id": "poL_fIv6tQ9Z"
      },
      "execution_count": 9,
      "outputs": []
    },
    {
      "source": [
        "\n",
        "\n",
        "import os\n",
        "from google.colab import userdata\n",
        "from langchain_google_genai import GoogleGenerativeAI\n",
        "\n",
        "# Replace with your actual API key\n",
        "google_api_key = userdata.get('GOOGLE_API_KEY')\n",
        "\n",
        "# Initialize the Gemini model, using 'gemini-pro' as the model family\n",
        "# Valid options for model include: 'gemini-pro', 'gemini-turbo', 'text-bison@001'\n",
        "llm = GoogleGenerativeAI(model=\"gemini-pro\", api_key=google_api_key, temperature=0.7)  # Adjust temperature as needed\n",
        "\n",
        "# Example usage with the documents and embeddings\n",
        "generated_text = llm.invoke(\n",
        "    \"Generate a creative text that incorporates information from these movie summaries:\\n\\n\"\n",
        "    + \"\\n\\n\".join([doc.page_content for doc in documents])\n",
        "    + \"\\n\\nThe new text should be a cohesive story, not just a summary.\"\n",
        ")\n",
        "generated_text"
      ],
      "cell_type": "code",
      "metadata": {
        "colab": {
          "base_uri": "https://localhost:8080/",
          "height": 175
        },
        "id": "rTAVOLKTGGum",
        "outputId": "174becbf-e4b0-45d8-a07e-449889e062f4"
      },
      "execution_count": 10,
      "outputs": [
        {
          "output_type": "execute_result",
          "data": {
            "text/plain": [
              "\"In a realm where dreams and reality intertwined, Leo DiCaprio found himself trapped within an infinite labyrinth of dreams. As the boundaries between the real and the imagined blurred, he stumbled through a surreal world where toys danced to their own rhythm, and dinosaurs roamed free, unleashing chaos upon a world unprepared.\\n\\nMeanwhile, in the enigmatic Zone, three men embarked on a perilous journey, their minds grappling with the shifting landscapes and hidden dangers that lay ahead. As they ventured deeper, their perceptions warped, and they questioned the very nature of their own existence.\\n\\nOn the distant moon of Pandora, a paraplegic Marine faced a moral dilemma. Torn between his duty and his newfound connection to an alien civilization, he wrestled with his conscience as he witnessed the devastating consequences of human greed.\\n\\nAmidst this dreamlike tapestry, a group of wholesome women emerged, their simple lives a stark contrast to the turmoil that surrounded them. Men pined for their unwavering goodness, their presence offering a beacon of hope in a world on the brink of collapse.\\n\\nAs the dreams and nightmares intertwined, the boundaries between the characters blurred. Leo DiCaprio's labyrinthine journey mirrored the psychologist's descent into a spiraling abyss of dreams, while the Zone became a haunting reflection of the Marine's own fractured psyche. And as the scientists continued their reckless experiments, the dinosaurs they had resurrected served as a grim reminder of the dangers of tampering with the forces of nature.\\n\\nIn this maddening dance of dreams and reality, the characters found themselves lost in a maze of their own making. As the lines between the two worlds continued to blur, they struggled to find their way back to a world where dreams and nightmares could be neatly separated.\""
            ],
            "application/vnd.google.colaboratory.intrinsic+json": {
              "type": "string"
            }
          },
          "metadata": {},
          "execution_count": 10
        }
      ]
    },
    {
      "cell_type": "code",
      "source": [],
      "metadata": {
        "id": "LsNoLlSVYsxN"
      },
      "execution_count": null,
      "outputs": []
    }
  ]
}