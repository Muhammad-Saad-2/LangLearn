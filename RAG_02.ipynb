{
  "nbformat": 4,
  "nbformat_minor": 0,
  "metadata": {
    "colab": {
      "provenance": [],
      "gpuType": "T4",
      "authorship_tag": "ABX9TyPINksLM2QvqcwIRUtSgC4/",
      "include_colab_link": true
    },
    "kernelspec": {
      "name": "python3",
      "display_name": "Python 3"
    },
    "language_info": {
      "name": "python"
    },
    "accelerator": "GPU"
  },
  "cells": [
    {
      "cell_type": "markdown",
      "metadata": {
        "id": "view-in-github",
        "colab_type": "text"
      },
      "source": [
        "<a href=\"https://colab.research.google.com/github/Muhammad-Saad-2/LangLearn/blob/main/RAG_02.ipynb\" target=\"_parent\"><img src=\"https://colab.research.google.com/assets/colab-badge.svg\" alt=\"Open In Colab\"/></a>"
      ]
    },
    {
      "cell_type": "markdown",
      "source": [
        "# New Section"
      ],
      "metadata": {
        "id": "HJgeUiplOB_l"
      }
    },
    {
      "cell_type": "markdown",
      "source": [
        "# saving the data into chromadb and querying with the database"
      ],
      "metadata": {
        "id": "UtNZmLYWL1kF"
      }
    },
    {
      "cell_type": "code",
      "source": [
        "#install the necessary modules\n",
        "\n",
        "%pip install langchain-chroma -q -U\n",
        "%pip install langchain-community -q -U\n",
        "%pip install sentence_transformers -q -U\n",
        "%pip install chromadb -q -U\n",
        "%pip install langchain-huggingface -q -U"
      ],
      "metadata": {
        "id": "jjcG5YrB-yVq"
      },
      "execution_count": 32,
      "outputs": []
    },
    {
      "cell_type": "markdown",
      "source": [],
      "metadata": {
        "id": "zzJQ3MpLNNaK"
      }
    },
    {
      "cell_type": "code",
      "source": [
        "from langchain_core.documents import Document\n",
        "from langchain.document_loaders import PyPDFLoader\n"
      ],
      "metadata": {
        "id": "zsRUeVkUIftR"
      },
      "execution_count": 18,
      "outputs": []
    },
    {
      "cell_type": "code",
      "source": [
        "#load the document\n",
        "\n",
        "pdf_path = \"/content/FINAL PDFS_2023AnnualReport_Bookmarked for Online posting.pdf\"\n",
        "loader = PyPDFLoader(pdf_path)\n",
        "documents = loader.load()"
      ],
      "metadata": {
        "id": "XLthREdHNPMs"
      },
      "execution_count": 22,
      "outputs": []
    },
    {
      "cell_type": "code",
      "source": [
        "#split the text\n",
        "from langchain.text_splitter import RecursiveCharacterTextSplitter\n",
        "text_splitter = RecursiveCharacterTextSplitter(chunk_size=1000, chunk_overlap=0)\n",
        "texts = text_splitter.split_documents(documents)"
      ],
      "metadata": {
        "id": "QvZEpNB1USfx"
      },
      "execution_count": 23,
      "outputs": []
    },
    {
      "cell_type": "markdown",
      "source": [],
      "metadata": {
        "id": "x5lyMLuqXYFD"
      }
    },
    {
      "cell_type": "code",
      "source": [
        "#create embeddings\n",
        "\n",
        "from langchain_huggingface import HuggingFaceEmbeddings\n",
        "embeddings = HuggingFaceEmbeddings(model_name=\"all-MiniLM-L6-v2\")"
      ],
      "metadata": {
        "id": "hcS6V8ATUlN_"
      },
      "execution_count": 33,
      "outputs": []
    },
    {
      "cell_type": "code",
      "source": [
        "#store in chromaDB\n",
        "\n",
        "from langchain.vectorstores import Chroma\n",
        "\n",
        "db = Chroma.from_documents(texts, embeddings)\n"
      ],
      "metadata": {
        "id": "EuT95yaNWJD6"
      },
      "execution_count": 34,
      "outputs": []
    },
    {
      "cell_type": "code",
      "source": [
        "#query the chromaDB database\n",
        "\n",
        "query = \"What does the PART I in the document explains\"\n",
        "answer = db.similarity_search(query)\n",
        "print(answer)\n",
        "\n",
        "#querying in native english becasue in the backend the embedding model\n",
        "#embed our input query too and perform the similarity search"
      ],
      "metadata": {
        "colab": {
          "base_uri": "https://localhost:8080/"
        },
        "id": "g62i9rDRXj69",
        "outputId": "4bbec79f-b1c2-4c47-f626-d104174532d9"
      },
      "execution_count": 35,
      "outputs": [
        {
          "output_type": "stream",
          "name": "stdout",
          "text": [
            "[Document(metadata={'creationdate': '2024-04-27T09:44:37+05:30', 'creator': 'Adobe InDesign 17.3 (Macintosh)', 'gts_pdfxconformance': 'PDF/X-1a:2001', 'gts_pdfxversion': 'PDF/X-1:2001', 'moddate': '2024-05-02T10:14:25-07:00', 'page': 91, 'page_label': '92', 'producer': 'Adobe PDF Library 16.0.7', 'source': '/content/FINAL PDFS_2023AnnualReport_Bookmarked for Online posting.pdf', 'title': 'Untitled-1.indd', 'total_pages': 108, 'trapped': '/False'}, page_content='Table of Contents \\n90 \\nPART III \\nPursuant to Paragraph (3) of the General Instructions to Form 10 - K, certain of the information required by Part III of \\nthis Form 10 - K is incorporated by reference from our Proxy Statement as set forth below. The Proxy Statement is expected \\nto be filed within 120 days of December 31, 2023. \\nItem 10.  Directors, Executive Officers and Corporate Governance. \\nInformation with respect to our directors and our Audit Committ ee appears in our Proxy Statement under \\n“Proposal No. 1 — Election of C lass II Directors — Nominees for  Class II Directors” and is incorporated herein by \\nreference. Information with respect to our executive officers appears in Part I, Item 1 — “Information about our Executive \\nOfficers” of this Form 10 - K. \\nWith regard to the information required by this item regarding compliance with Section 16(a) of the Exchange Act,'), Document(metadata={'creationdate': '2024-04-27T09:44:37+05:30', 'creator': 'Adobe InDesign 17.3 (Macintosh)', 'gts_pdfxconformance': 'PDF/X-1a:2001', 'gts_pdfxversion': 'PDF/X-1:2001', 'moddate': '2024-05-02T10:14:25-07:00', 'page': 91, 'page_label': '92', 'producer': 'Adobe PDF Library 16.0.7', 'source': '/content/FINAL PDFS_2023AnnualReport_Bookmarked for Online posting.pdf', 'title': 'Untitled-1.indd', 'total_pages': 108, 'trapped': '/False'}, page_content='Table of Contents \\n90 \\nPART III \\nPursuant to Paragraph (3) of the General Instructions to Form 10 - K, certain of the information required by Part III of \\nthis Form 10 - K is incorporated by reference from our Proxy Statement as set forth below. The Proxy Statement is expected \\nto be filed within 120 days of December 31, 2023. \\nItem 10.  Directors, Executive Officers and Corporate Governance. \\nInformation with respect to our directors and our Audit Committ ee appears in our Proxy Statement under \\n“Proposal No. 1 — Election of C lass II Directors — Nominees for  Class II Directors” and is incorporated herein by \\nreference. Information with respect to our executive officers appears in Part I, Item 1 — “Information about our Executive \\nOfficers” of this Form 10 - K. \\nWith regard to the information required by this item regarding compliance with Section 16(a) of the Exchange Act,'), Document(metadata={'creationdate': '2024-04-27T09:44:37+05:30', 'creator': 'Adobe InDesign 17.3 (Macintosh)', 'gts_pdfxconformance': 'PDF/X-1a:2001', 'gts_pdfxversion': 'PDF/X-1:2001', 'moddate': '2024-05-02T10:14:25-07:00', 'page': 4, 'page_label': '5', 'producer': 'Adobe PDF Library 16.0.7', 'source': '/content/FINAL PDFS_2023AnnualReport_Bookmarked for Online posting.pdf', 'title': 'Untitled-1.indd', 'total_pages': 108, 'trapped': '/False'}, page_content='property and our solutions; the continuing impact of macroeconomic conditions on the semiconductor industry and our \\nbusiness; supply chain disruptions; possible impacts from th e evolving trade regulatory environment and geopolitical \\ntensions; and our ability to obtain additional financing if needed. Our actual results could differ materially from those \\nprojected in the forward-looking statements as a result of a number of factors, risks and uncertainties discussed in this \\nForm 10 - K, especially those contained in Item 1A of this Form 10  - K. The words “may,” “anticipate,” “plan,” \\n“continue,” “could,” “projected,” “expect ,” “believe,” “intend,” and “assume,” th e negative of these terms and similar \\nexpressions are used to identify forward-looking statements. All forward-looking statements and information included \\nherein is given as of the filing date of this Form 10 - K with the Securities and Exchange Commission (“SEC”) and based'), Document(metadata={'creationdate': '2024-04-27T09:44:37+05:30', 'creator': 'Adobe InDesign 17.3 (Macintosh)', 'gts_pdfxconformance': 'PDF/X-1a:2001', 'gts_pdfxversion': 'PDF/X-1:2001', 'moddate': '2024-05-02T10:14:25-07:00', 'page': 4, 'page_label': '5', 'producer': 'Adobe PDF Library 16.0.7', 'source': '/content/FINAL PDFS_2023AnnualReport_Bookmarked for Online posting.pdf', 'title': 'Untitled-1.indd', 'total_pages': 108, 'trapped': '/False'}, page_content='property and our solutions; the continuing impact of macroeconomic conditions on the semiconductor industry and our \\nbusiness; supply chain disruptions; possible impacts from th e evolving trade regulatory environment and geopolitical \\ntensions; and our ability to obtain additional financing if needed. Our actual results could differ materially from those \\nprojected in the forward-looking statements as a result of a number of factors, risks and uncertainties discussed in this \\nForm 10 - K, especially those contained in Item 1A of this Form 10  - K. The words “may,” “anticipate,” “plan,” \\n“continue,” “could,” “projected,” “expect ,” “believe,” “intend,” and “assume,” th e negative of these terms and similar \\nexpressions are used to identify forward-looking statements. All forward-looking statements and information included \\nherein is given as of the filing date of this Form 10 - K with the Securities and Exchange Commission (“SEC”) and based')]\n"
          ]
        }
      ]
    },
    {
      "cell_type": "code",
      "source": [
        "dir(langchain.vectorstores.Chroma)"
      ],
      "metadata": {
        "colab": {
          "base_uri": "https://localhost:8080/"
        },
        "id": "wYne0L6bW9ZB",
        "outputId": "f3cda3d3-867b-417d-8a84-453afe1193f3"
      },
      "execution_count": 28,
      "outputs": [
        {
          "output_type": "execute_result",
          "data": {
            "text/plain": [
              "['_Chroma__query_collection',\n",
              " '_LANGCHAIN_DEFAULT_COLLECTION_NAME',\n",
              " '__abstractmethods__',\n",
              " '__annotations__',\n",
              " '__class__',\n",
              " '__delattr__',\n",
              " '__dict__',\n",
              " '__dir__',\n",
              " '__doc__',\n",
              " '__eq__',\n",
              " '__format__',\n",
              " '__ge__',\n",
              " '__getattribute__',\n",
              " '__getstate__',\n",
              " '__gt__',\n",
              " '__hash__',\n",
              " '__init__',\n",
              " '__init_subclass__',\n",
              " '__le__',\n",
              " '__len__',\n",
              " '__lt__',\n",
              " '__module__',\n",
              " '__ne__',\n",
              " '__new__',\n",
              " '__reduce__',\n",
              " '__reduce_ex__',\n",
              " '__repr__',\n",
              " '__setattr__',\n",
              " '__sizeof__',\n",
              " '__slots__',\n",
              " '__str__',\n",
              " '__subclasshook__',\n",
              " '__weakref__',\n",
              " '_abc_impl',\n",
              " '_asimilarity_search_with_relevance_scores',\n",
              " '_cosine_relevance_score_fn',\n",
              " '_euclidean_relevance_score_fn',\n",
              " '_get_retriever_tags',\n",
              " '_max_inner_product_relevance_score_fn',\n",
              " '_select_relevance_score_fn',\n",
              " '_similarity_search_with_relevance_scores',\n",
              " 'aadd_documents',\n",
              " 'aadd_texts',\n",
              " 'add_documents',\n",
              " 'add_images',\n",
              " 'add_texts',\n",
              " 'adelete',\n",
              " 'afrom_documents',\n",
              " 'afrom_texts',\n",
              " 'aget_by_ids',\n",
              " 'amax_marginal_relevance_search',\n",
              " 'amax_marginal_relevance_search_by_vector',\n",
              " 'as_retriever',\n",
              " 'asearch',\n",
              " 'asimilarity_search',\n",
              " 'asimilarity_search_by_vector',\n",
              " 'asimilarity_search_with_relevance_scores',\n",
              " 'asimilarity_search_with_score',\n",
              " 'delete',\n",
              " 'delete_collection',\n",
              " 'embeddings',\n",
              " 'encode_image',\n",
              " 'from_documents',\n",
              " 'from_texts',\n",
              " 'get',\n",
              " 'get_by_ids',\n",
              " 'max_marginal_relevance_search',\n",
              " 'max_marginal_relevance_search_by_vector',\n",
              " 'persist',\n",
              " 'search',\n",
              " 'similarity_search',\n",
              " 'similarity_search_by_image',\n",
              " 'similarity_search_by_image_with_relevance_score',\n",
              " 'similarity_search_by_vector',\n",
              " 'similarity_search_by_vector_with_relevance_scores',\n",
              " 'similarity_search_with_relevance_scores',\n",
              " 'similarity_search_with_score',\n",
              " 'update_document',\n",
              " 'update_documents']"
            ]
          },
          "metadata": {},
          "execution_count": 28
        }
      ]
    },
    {
      "cell_type": "code",
      "source": [
        "import langchain.document_loaders\n",
        "dir(langchain.document_loaders)"
      ],
      "metadata": {
        "colab": {
          "base_uri": "https://localhost:8080/"
        },
        "id": "gTthR7DRSgeO",
        "outputId": "9132ab9a-5f3b-4750-b133-e8ad99e2d2b0"
      },
      "execution_count": 21,
      "outputs": [
        {
          "output_type": "execute_result",
          "data": {
            "text/plain": [
              "['Any',\n",
              " 'Blob',\n",
              " 'BlobLoader',\n",
              " 'DEPRECATED_LOOKUP',\n",
              " 'TYPE_CHECKING',\n",
              " '__all__',\n",
              " '__builtins__',\n",
              " '__cached__',\n",
              " '__doc__',\n",
              " '__file__',\n",
              " '__getattr__',\n",
              " '__loader__',\n",
              " '__name__',\n",
              " '__package__',\n",
              " '__path__',\n",
              " '__spec__',\n",
              " '_import_attribute',\n",
              " '_old_to_new_name',\n",
              " 'create_importer']"
            ]
          },
          "metadata": {},
          "execution_count": 21
        }
      ]
    },
    {
      "cell_type": "code",
      "source": [],
      "metadata": {
        "id": "DX7tRLbjTzEQ"
      },
      "execution_count": null,
      "outputs": []
    }
  ]
}